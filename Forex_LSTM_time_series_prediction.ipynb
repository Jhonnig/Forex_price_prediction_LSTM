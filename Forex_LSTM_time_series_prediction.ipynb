{
 "cells": [
  {
   "cell_type": "code",
   "execution_count": 41,
   "metadata": {},
   "outputs": [],
   "source": [
    "import pandas as pd\n",
    "import oandapyV20\n",
    "import oandapyV20.endpoints.instruments as instruments\n",
    "import numpy as np\n",
    "%matplotlib inline\n",
    "import matplotlib.pyplot as plt\n",
    "from datetime import datetime\n",
    "\n",
    "from sklearn.preprocessing import MinMaxScaler\n",
    "from sklearn.metrics import r2_score"
   ]
  },
  {
   "cell_type": "code",
   "execution_count": 42,
   "metadata": {},
   "outputs": [],
   "source": [
    "def adj_r2_score(r2, n, k):\n",
    "    return 1-((1-r2)*((n-1)/(n-k-1)))  "
   ]
  },
  {
   "cell_type": "code",
   "execution_count": 43,
   "metadata": {},
   "outputs": [],
   "source": [
    "accountID = '101-001-9566118-001'\n",
    "access_token = '541c1d09ea106d47855c4be050f4637d-26d78f76cd5e918ab269a4c23f23ce8d'"
   ]
  },
  {
   "cell_type": "code",
   "execution_count": 44,
   "metadata": {},
   "outputs": [],
   "source": [
    "client = oandapyV20.API(access_token=access_token)"
   ]
  },
  {
   "cell_type": "code",
   "execution_count": 45,
   "metadata": {},
   "outputs": [],
   "source": [
    "params = {\n",
    "          \"count\": 1000,\n",
    "          \"granularity\": \"D\"}"
   ]
  },
  {
   "cell_type": "code",
   "execution_count": 46,
   "metadata": {},
   "outputs": [],
   "source": [
    "r = instruments.InstrumentsCandles(instrument=\"EUR_USD\",\n",
    "                                   params=params)"
   ]
  },
  {
   "cell_type": "code",
   "execution_count": 47,
   "metadata": {},
   "outputs": [],
   "source": [
    "a = client.request(r)"
   ]
  },
  {
   "cell_type": "code",
   "execution_count": 48,
   "metadata": {},
   "outputs": [
    {
     "data": {
      "text/plain": [
       "{'o': '1.05874', 'h': '1.06192', 'l': '1.05205', 'c': '1.05668'}"
      ]
     },
     "execution_count": 48,
     "metadata": {},
     "output_type": "execute_result"
    }
   ],
   "source": [
    "r.response['candles'][0]['mid']"
   ]
  },
  {
   "cell_type": "code",
   "execution_count": 9,
   "metadata": {},
   "outputs": [],
   "source": [
    "x = r.response['candles'][0]['time']"
   ]
  },
  {
   "cell_type": "code",
   "execution_count": 10,
   "metadata": {},
   "outputs": [
    {
     "data": {
      "text/plain": [
       "'2015-04-12'"
      ]
     },
     "execution_count": 10,
     "metadata": {},
     "output_type": "execute_result"
    }
   ],
   "source": [
    "x[0:10]"
   ]
  },
  {
   "cell_type": "code",
   "execution_count": 11,
   "metadata": {},
   "outputs": [
    {
     "data": {
      "text/plain": [
       "42896"
      ]
     },
     "execution_count": 11,
     "metadata": {},
     "output_type": "execute_result"
    }
   ],
   "source": [
    "r.response['candles'][0]['volume']"
   ]
  },
  {
   "cell_type": "code",
   "execution_count": 12,
   "metadata": {},
   "outputs": [],
   "source": [
    "dat = []\n",
    "for oo in r.response['candles']:\n",
    "    dat.append([oo['time'], oo['volume'], oo['mid']['o'], oo['mid']['h'], oo['mid']['l'], oo['mid']['c']])"
   ]
  },
  {
   "cell_type": "code",
   "execution_count": 13,
   "metadata": {},
   "outputs": [],
   "source": [
    "df = pd.DataFrame(dat)\n",
    "df.columns = ['Date', 'Volume', 'Open', 'High', 'Low', 'Close']"
   ]
  },
  {
   "cell_type": "code",
   "execution_count": 14,
   "metadata": {},
   "outputs": [
    {
     "name": "stdout",
     "output_type": "stream",
     "text": [
      "<class 'pandas.core.series.Series'>\n"
     ]
    }
   ],
   "source": [
    "print(type(df[\"Date\"]))"
   ]
  },
  {
   "cell_type": "code",
   "execution_count": 15,
   "metadata": {},
   "outputs": [],
   "source": [
    "get_date = lambda x: x[0:10]"
   ]
  },
  {
   "cell_type": "code",
   "execution_count": 16,
   "metadata": {},
   "outputs": [],
   "source": [
    "df['Time'] = df.Date.apply(get_date)"
   ]
  },
  {
   "cell_type": "code",
   "execution_count": 17,
   "metadata": {},
   "outputs": [],
   "source": [
    "df[\"Time\"] = pd.to_datetime(df[\"Time\"])"
   ]
  },
  {
   "cell_type": "code",
   "execution_count": 18,
   "metadata": {},
   "outputs": [],
   "source": [
    "ind_exchange_data = df.set_index([\"Time\"], drop=True)"
   ]
  },
  {
   "cell_type": "code",
   "execution_count": 19,
   "metadata": {},
   "outputs": [],
   "source": [
    "df1 = ind_exchange_data[[\"Close\"]]"
   ]
  },
  {
   "cell_type": "code",
   "execution_count": 20,
   "metadata": {},
   "outputs": [],
   "source": [
    "df2 = df1.rename(columns={'Close': 'Price'})"
   ]
  },
  {
   "cell_type": "code",
   "execution_count": 21,
   "metadata": {},
   "outputs": [],
   "source": [
    "df2= df2.astype(float)"
   ]
  },
  {
   "cell_type": "code",
   "execution_count": 22,
   "metadata": {},
   "outputs": [
    {
     "data": {
      "text/html": [
       "<div>\n",
       "<style scoped>\n",
       "    .dataframe tbody tr th:only-of-type {\n",
       "        vertical-align: middle;\n",
       "    }\n",
       "\n",
       "    .dataframe tbody tr th {\n",
       "        vertical-align: top;\n",
       "    }\n",
       "\n",
       "    .dataframe thead th {\n",
       "        text-align: right;\n",
       "    }\n",
       "</style>\n",
       "<table border=\"1\" class=\"dataframe\">\n",
       "  <thead>\n",
       "    <tr style=\"text-align: right;\">\n",
       "      <th></th>\n",
       "      <th>Price</th>\n",
       "    </tr>\n",
       "    <tr>\n",
       "      <th>Time</th>\n",
       "      <th></th>\n",
       "    </tr>\n",
       "  </thead>\n",
       "  <tbody>\n",
       "    <tr>\n",
       "      <th>2015-04-12</th>\n",
       "      <td>1.05668</td>\n",
       "    </tr>\n",
       "    <tr>\n",
       "      <th>2015-04-13</th>\n",
       "      <td>1.06547</td>\n",
       "    </tr>\n",
       "    <tr>\n",
       "      <th>2015-04-14</th>\n",
       "      <td>1.06841</td>\n",
       "    </tr>\n",
       "    <tr>\n",
       "      <th>2015-04-15</th>\n",
       "      <td>1.07614</td>\n",
       "    </tr>\n",
       "    <tr>\n",
       "      <th>2015-04-16</th>\n",
       "      <td>1.08068</td>\n",
       "    </tr>\n",
       "  </tbody>\n",
       "</table>\n",
       "</div>"
      ],
      "text/plain": [
       "              Price\n",
       "Time               \n",
       "2015-04-12  1.05668\n",
       "2015-04-13  1.06547\n",
       "2015-04-14  1.06841\n",
       "2015-04-15  1.07614\n",
       "2015-04-16  1.08068"
      ]
     },
     "execution_count": 22,
     "metadata": {},
     "output_type": "execute_result"
    }
   ],
   "source": [
    "df2.head()"
   ]
  },
  {
   "cell_type": "code",
   "execution_count": 23,
   "metadata": {},
   "outputs": [
    {
     "data": {
      "text/plain": [
       "<matplotlib.axes._subplots.AxesSubplot at 0x2679bb84940>"
      ]
     },
     "execution_count": 23,
     "metadata": {},
     "output_type": "execute_result"
    },
    {
     "data": {
      "image/png": "[encoded data removed]",
      "text/plain": [
       "<Figure size 432x288 with 1 Axes>"
      ]
     },
     "metadata": {
      "needs_background": "light"
     },
     "output_type": "display_data"
    }
   ],
   "source": [
    "df2.plot()"
   ]
  },
  {
   "cell_type": "code",
   "execution_count": 24,
   "metadata": {},
   "outputs": [
    {
     "data": {
      "text/plain": [
       "<matplotlib.legend.Legend at 0x2679bec9278>"
      ]
     },
     "execution_count": 24,
     "metadata": {},
     "output_type": "execute_result"
    },
    {
     "data": {
      "image/png": "[encoded data removed]",
      "text/plain": [
       "<Figure size 432x288 with 1 Axes>"
      ]
     },
     "metadata": {
      "needs_background": "light"
     },
     "output_type": "display_data"
    }
   ],
   "source": [
    "split_date = pd.Timestamp('01-01-2018')\n",
    "\n",
    "train = df2.loc[:split_date]\n",
    "test = df2.loc[split_date:]\n",
    "\n",
    "ax = train.plot()\n",
    "test.plot(ax=ax)\n",
    "plt.legend(['train', 'test'])"
   ]
  },
  {
   "cell_type": "code",
   "execution_count": 25,
   "metadata": {},
   "outputs": [],
   "source": [
    "sc = MinMaxScaler()\n",
    "train_sc = sc.fit_transform(train)\n",
    "test_sc = sc.transform(test)"
   ]
  },
  {
   "cell_type": "code",
   "execution_count": 26,
   "metadata": {},
   "outputs": [],
   "source": [
    "X_train = train_sc[:-1]\n",
    "y_train = train_sc[1:]\n",
    "\n",
    "X_test = test_sc[:-1]\n",
    "y_test = test_sc[1:]"
   ]
  },
  {
   "cell_type": "code",
   "execution_count": 27,
   "metadata": {},
   "outputs": [
    {
     "name": "stderr",
     "output_type": "stream",
     "text": [
      "Using TensorFlow backend.\n"
     ]
    }
   ],
   "source": [
    "from keras.models import Sequential\n",
    "from keras.layers import Dense\n",
    "import keras.backend as K\n",
    "from keras.callbacks import EarlyStopping\n",
    "from keras.optimizers import Adam\n",
    "from keras.models import load_model"
   ]
  },
  {
   "cell_type": "code",
   "execution_count": 28,
   "metadata": {},
   "outputs": [
    {
     "name": "stdout",
     "output_type": "stream",
     "text": [
      "Epoch 1/200\n",
      "708/708 [==============================] - 1s 821us/step - loss: 0.0206\n",
      "Epoch 2/200\n",
      "708/708 [==============================] - 0s 558us/step - loss: 0.0046\n",
      "Epoch 3/200\n",
      "708/708 [==============================] - 0s 571us/step - loss: 0.0027\n",
      "Epoch 4/200\n",
      "708/708 [==============================] - 0s 571us/step - loss: 0.0019\n",
      "Epoch 5/200\n",
      "708/708 [==============================] - 0s 562us/step - loss: 0.0016\n",
      "Epoch 6/200\n",
      "708/708 [==============================] - 0s 566us/step - loss: 0.0015\n",
      "Epoch 7/200\n",
      "708/708 [==============================] - 0s 551us/step - loss: 0.0015\n",
      "Epoch 8/200\n",
      "708/708 [==============================] - 0s 589us/step - loss: 0.0015\n",
      "Epoch 9/200\n",
      "708/708 [==============================] - 0s 610us/step - loss: 0.0014\n",
      "Epoch 10/200\n",
      "708/708 [==============================] - 0s 592us/step - loss: 0.0014\n",
      "Epoch 11/200\n",
      "708/708 [==============================] - 0s 596us/step - loss: 0.0014\n",
      "Epoch 12/200\n",
      "708/708 [==============================] - 0s 665us/step - loss: 0.0014\n",
      "Epoch 00012: early stopping\n"
     ]
    }
   ],
   "source": [
    "K.clear_session()\n",
    "\n",
    "model = Sequential()\n",
    "model.add(Dense(12, input_dim=1, activation='relu'))\n",
    "model.add(Dense(1))\n",
    "model.compile(loss='mean_squared_error', optimizer='adam')\n",
    "early_stop = EarlyStopping(monitor='loss', patience=2, verbose=1)\n",
    "history = model.fit(X_train, y_train, epochs=200, batch_size=1, verbose=1, callbacks=[early_stop], shuffle=False)"
   ]
  },
  {
   "cell_type": "code",
   "execution_count": 29,
   "metadata": {},
   "outputs": [
    {
     "name": "stdout",
     "output_type": "stream",
     "text": [
      "The R2 score on the Train set is:\t0.926\n",
      "The Adjusted R2 score on the Train set is:\t0.926\n",
      "\n",
      "The R2 score on the Test set is:\t0.960\n",
      "The Adjusted R2 score on the Test set is:\t0.960\n"
     ]
    }
   ],
   "source": [
    "y_pred_test_ann = model.predict(X_test)\n",
    "y_train_pred_ann = model.predict(X_train)\n",
    "print(\"The R2 score on the Train set is:\\t{:0.3f}\".format(r2_score(y_train, y_train_pred_ann)))\n",
    "r2_train = r2_score(y_train, y_train_pred_ann)\n",
    "print(\"The Adjusted R2 score on the Train set is:\\t{:0.3f}\\n\".format(adj_r2_score(r2_train, X_train.shape[0], X_train.shape[1])))\n",
    "print(\"The R2 score on the Test set is:\\t{:0.3f}\".format(r2_score(y_test, y_pred_test_ann)))\n",
    "r2_test = r2_score(y_test, y_pred_test_ann)\n",
    "print(\"The Adjusted R2 score on the Test set is:\\t{:0.3f}\".format(adj_r2_score(r2_test, X_test.shape[0], X_test.shape[1])))"
   ]
  },
  {
   "cell_type": "code",
   "execution_count": 30,
   "metadata": {},
   "outputs": [],
   "source": [
    "model.save('ANN_NonShift.h5')"
   ]
  },
  {
   "cell_type": "code",
   "execution_count": 31,
   "metadata": {},
   "outputs": [],
   "source": [
    "X_tr_t = X_train.reshape(X_train.shape[0], 1, X_train.shape[1])\n",
    "X_tst_t = X_test.reshape(X_test.shape[0], 1, X_test.shape[1])"
   ]
  },
  {
   "cell_type": "code",
   "execution_count": 32,
   "metadata": {},
   "outputs": [
    {
     "name": "stdout",
     "output_type": "stream",
     "text": [
      "Epoch 1/200\n",
      "708/708 [==============================] - 1s 2ms/step - loss: 0.0346\n",
      "Epoch 2/200\n",
      "708/708 [==============================] - 1s 1ms/step - loss: 0.0073\n",
      "Epoch 3/200\n",
      "708/708 [==============================] - 1s 1ms/step - loss: 0.0036\n",
      "Epoch 4/200\n",
      "708/708 [==============================] - 1s 1ms/step - loss: 0.0021\n",
      "Epoch 5/200\n",
      "708/708 [==============================] - 1s 1ms/step - loss: 0.0017\n",
      "Epoch 6/200\n",
      "708/708 [==============================] - 1s 1ms/step - loss: 0.0015\n",
      "Epoch 7/200\n",
      "708/708 [==============================] - 1s 1ms/step - loss: 0.0015\n",
      "Epoch 8/200\n",
      "708/708 [==============================] - 1s 1ms/step - loss: 0.0014\n",
      "Epoch 9/200\n",
      "708/708 [==============================] - 1s 1ms/step - loss: 0.0014\n",
      "Epoch 10/200\n",
      "708/708 [==============================] - 1s 1ms/step - loss: 0.0014\n",
      "Epoch 11/200\n",
      "708/708 [==============================] - 1s 1ms/step - loss: 0.0014\n",
      "Epoch 12/200\n",
      "708/708 [==============================] - 1s 1ms/step - loss: 0.0014\n",
      "Epoch 13/200\n",
      "708/708 [==============================] - 1s 1ms/step - loss: 0.0014\n",
      "Epoch 14/200\n",
      "708/708 [==============================] - 1s 1ms/step - loss: 0.0014\n",
      "Epoch 15/200\n",
      "708/708 [==============================] - 1s 1ms/step - loss: 0.0014\n",
      "Epoch 16/200\n",
      "708/708 [==============================] - 1s 1ms/step - loss: 0.0014\n",
      "Epoch 17/200\n",
      "708/708 [==============================] - 1s 1ms/step - loss: 0.0014\n",
      "Epoch 18/200\n",
      "708/708 [==============================] - 1s 1ms/step - loss: 0.0014\n",
      "Epoch 19/200\n",
      "708/708 [==============================] - 1s 1ms/step - loss: 0.0014\n",
      "Epoch 20/200\n",
      "708/708 [==============================] - 1s 2ms/step - loss: 0.0014\n",
      "Epoch 21/200\n",
      "708/708 [==============================] - 1s 2ms/step - loss: 0.0014\n",
      "Epoch 22/200\n",
      "708/708 [==============================] - 1s 1ms/step - loss: 0.0014\n",
      "Epoch 23/200\n",
      "708/708 [==============================] - 1s 1ms/step - loss: 0.0014\n",
      "Epoch 24/200\n",
      "708/708 [==============================] - 1s 1ms/step - loss: 0.0014\n",
      "Epoch 25/200\n",
      "708/708 [==============================] - 1s 1ms/step - loss: 0.0014\n",
      "Epoch 26/200\n",
      "708/708 [==============================] - 1s 1ms/step - loss: 0.0014\n",
      "Epoch 27/200\n",
      "708/708 [==============================] - 1s 1ms/step - loss: 0.0014\n",
      "Epoch 28/200\n",
      "708/708 [==============================] - 1s 1ms/step - loss: 0.0014\n",
      "Epoch 29/200\n",
      "708/708 [==============================] - 1s 1ms/step - loss: 0.0014\n",
      "Epoch 30/200\n",
      "708/708 [==============================] - 1s 1ms/step - loss: 0.0014\n",
      "Epoch 31/200\n",
      "708/708 [==============================] - 1s 1ms/step - loss: 0.0014\n",
      "Epoch 32/200\n",
      "708/708 [==============================] - 1s 1ms/step - loss: 0.0014\n",
      "Epoch 33/200\n",
      "708/708 [==============================] - 1s 1ms/step - loss: 0.0014\n",
      "Epoch 34/200\n",
      "708/708 [==============================] - 1s 1ms/step - loss: 0.0014\n",
      "Epoch 35/200\n",
      "708/708 [==============================] - 1s 1ms/step - loss: 0.0014\n",
      "Epoch 36/200\n",
      "708/708 [==============================] - 1s 1ms/step - loss: 0.0014\n",
      "Epoch 37/200\n",
      "708/708 [==============================] - 1s 1ms/step - loss: 0.0014\n",
      "Epoch 38/200\n",
      "708/708 [==============================] - 1s 1ms/step - loss: 0.0014\n",
      "Epoch 39/200\n",
      "708/708 [==============================] - 1s 1ms/step - loss: 0.0014\n",
      "Epoch 40/200\n",
      "708/708 [==============================] - 1s 1ms/step - loss: 0.0014\n",
      "Epoch 41/200\n",
      "708/708 [==============================] - 1s 1ms/step - loss: 0.0014\n",
      "Epoch 42/200\n",
      "708/708 [==============================] - 1s 1ms/step - loss: 0.0014\n",
      "Epoch 43/200\n",
      "708/708 [==============================] - 1s 1ms/step - loss: 0.0014\n",
      "Epoch 44/200\n",
      "708/708 [==============================] - 1s 1ms/step - loss: 0.0014\n",
      "Epoch 45/200\n",
      "708/708 [==============================] - 1s 1ms/step - loss: 0.0014\n",
      "Epoch 46/200\n",
      "708/708 [==============================] - 1s 1ms/step - loss: 0.0014\n",
      "Epoch 47/200\n",
      "708/708 [==============================] - 1s 1ms/step - loss: 0.0014\n",
      "Epoch 48/200\n",
      "708/708 [==============================] - 1s 1ms/step - loss: 0.0014\n",
      "Epoch 49/200\n",
      "708/708 [==============================] - 1s 1ms/step - loss: 0.0014\n",
      "Epoch 50/200\n",
      "708/708 [==============================] - 1s 2ms/step - loss: 0.0014\n",
      "Epoch 51/200\n",
      "708/708 [==============================] - 1s 1ms/step - loss: 0.0014\n",
      "Epoch 52/200\n",
      "708/708 [==============================] - 1s 1ms/step - loss: 0.0014\n",
      "Epoch 53/200\n",
      "708/708 [==============================] - 1s 2ms/step - loss: 0.0014\n",
      "Epoch 54/200\n",
      "708/708 [==============================] - 1s 1ms/step - loss: 0.0014\n",
      "Epoch 55/200\n",
      "708/708 [==============================] - 1s 1ms/step - loss: 0.0014\n",
      "Epoch 56/200\n",
      "708/708 [==============================] - 1s 1ms/step - loss: 0.0014\n",
      "Epoch 57/200\n",
      "708/708 [==============================] - 1s 1ms/step - loss: 0.0014\n",
      "Epoch 58/200\n",
      "708/708 [==============================] - 1s 1ms/step - loss: 0.0014\n",
      "Epoch 59/200\n",
      "708/708 [==============================] - 1s 1ms/step - loss: 0.0014\n",
      "Epoch 60/200\n",
      "708/708 [==============================] - 1s 1ms/step - loss: 0.0014\n",
      "Epoch 61/200\n",
      "708/708 [==============================] - 1s 1ms/step - loss: 0.0014\n",
      "Epoch 62/200\n",
      "708/708 [==============================] - 1s 1ms/step - loss: 0.0014\n",
      "Epoch 63/200\n",
      "708/708 [==============================] - 1s 1ms/step - loss: 0.0014\n",
      "Epoch 64/200\n",
      "708/708 [==============================] - 1s 2ms/step - loss: 0.0014\n",
      "Epoch 65/200\n",
      "708/708 [==============================] - 1s 1ms/step - loss: 0.0014\n",
      "Epoch 66/200\n",
      "708/708 [==============================] - 1s 1ms/step - loss: 0.0014\n",
      "Epoch 67/200\n",
      "708/708 [==============================] - 1s 1ms/step - loss: 0.0014\n",
      "Epoch 68/200\n",
      "708/708 [==============================] - 1s 1ms/step - loss: 0.0014\n",
      "Epoch 69/200\n",
      "708/708 [==============================] - 1s 1ms/step - loss: 0.0014\n",
      "Epoch 70/200\n",
      "708/708 [==============================] - 1s 1ms/step - loss: 0.0014\n",
      "Epoch 71/200\n",
      "708/708 [==============================] - 1s 1ms/step - loss: 0.0014\n",
      "Epoch 72/200\n",
      "708/708 [==============================] - 1s 1ms/step - loss: 0.0014\n",
      "Epoch 73/200\n",
      "708/708 [==============================] - 1s 1ms/step - loss: 0.0014\n",
      "Epoch 74/200\n",
      "708/708 [==============================] - 1s 1ms/step - loss: 0.0014\n",
      "Epoch 75/200\n",
      "708/708 [==============================] - 1s 1ms/step - loss: 0.0014\n",
      "Epoch 76/200\n",
      "708/708 [==============================] - 1s 1ms/step - loss: 0.0014\n",
      "Epoch 77/200\n",
      "708/708 [==============================] - 1s 1ms/step - loss: 0.0014\n",
      "Epoch 78/200\n",
      "708/708 [==============================] - 1s 1ms/step - loss: 0.0014\n",
      "Epoch 79/200\n",
      "708/708 [==============================] - 1s 1ms/step - loss: 0.0014\n",
      "Epoch 80/200\n",
      "708/708 [==============================] - 1s 1ms/step - loss: 0.0014\n",
      "Epoch 81/200\n",
      "708/708 [==============================] - 1s 1ms/step - loss: 0.0014\n",
      "Epoch 82/200\n",
      "708/708 [==============================] - 1s 1ms/step - loss: 0.0014\n",
      "Epoch 83/200\n",
      "708/708 [==============================] - 1s 1ms/step - loss: 0.0014\n",
      "Epoch 84/200\n",
      "708/708 [==============================] - 1s 1ms/step - loss: 0.0014\n",
      "Epoch 85/200\n",
      "708/708 [==============================] - 1s 1ms/step - loss: 0.0014\n",
      "Epoch 86/200\n",
      "708/708 [==============================] - 1s 1ms/step - loss: 0.0014\n",
      "Epoch 87/200\n",
      "708/708 [==============================] - 1s 1ms/step - loss: 0.0014\n",
      "Epoch 88/200\n",
      "708/708 [==============================] - 1s 1ms/step - loss: 0.0014\n",
      "Epoch 89/200\n",
      "708/708 [==============================] - 1s 1ms/step - loss: 0.0014\n",
      "Epoch 90/200\n",
      "708/708 [==============================] - 1s 1ms/step - loss: 0.0014\n",
      "Epoch 91/200\n",
      "708/708 [==============================] - 1s 1ms/step - loss: 0.0014\n",
      "Epoch 92/200\n",
      "708/708 [==============================] - 1s 1ms/step - loss: 0.0014\n",
      "Epoch 93/200\n",
      "708/708 [==============================] - 1s 1ms/step - loss: 0.0014\n",
      "Epoch 94/200\n",
      "708/708 [==============================] - 1s 1ms/step - loss: 0.0014\n",
      "Epoch 95/200\n",
      "708/708 [==============================] - 1s 2ms/step - loss: 0.0014\n",
      "Epoch 96/200\n",
      "708/708 [==============================] - 1s 2ms/step - loss: 0.0014\n",
      "Epoch 97/200\n",
      "708/708 [==============================] - 1s 1ms/step - loss: 0.0014\n",
      "Epoch 98/200\n",
      "708/708 [==============================] - 1s 1ms/step - loss: 0.0014\n",
      "Epoch 99/200\n",
      "708/708 [==============================] - 1s 1ms/step - loss: 0.0014\n",
      "Epoch 00099: early stopping\n",
      "The R2 score on the Train set is:\t0.946\n",
      "The Adjusted R2 score on the Train set is:\t0.946\n",
      "\n",
      "The R2 score on the Test set is:\t0.921\n",
      "The Adjusted R2 score on the Test set is:\t0.921\n"
     ]
    }
   ],
   "source": [
    "from keras.layers import LSTM\n",
    "K.clear_session()\n",
    "model_lstm = Sequential()\n",
    "model_lstm.add(LSTM(7, input_shape=(1, X_train.shape[1]), activation='relu', kernel_initializer='lecun_uniform', return_sequences=False))\n",
    "model_lstm.add(Dense(1))\n",
    "model_lstm.compile(loss='mean_squared_error', optimizer='adam')\n",
    "early_stop = EarlyStopping(monitor='loss', patience=5, verbose=1)\n",
    "history_model_lstm = model_lstm.fit(X_tr_t, y_train, epochs=200, batch_size=1, verbose=1, shuffle=False, callbacks=[early_stop])\n",
    "\n",
    "y_pred_test_lstm = model_lstm.predict(X_tst_t)\n",
    "y_train_pred_lstm = model_lstm.predict(X_tr_t)\n",
    "print(\"The R2 score on the Train set is:\\t{:0.3f}\".format(r2_score(y_train, y_train_pred_lstm)))\n",
    "r2_train = r2_score(y_train, y_train_pred_lstm)\n",
    "print(\"The Adjusted R2 score on the Train set is:\\t{:0.3f}\\n\".format(adj_r2_score(r2_train, X_train.shape[0], X_train.shape[1])))\n",
    "print(\"The R2 score on the Test set is:\\t{:0.3f}\".format(r2_score(y_test, y_pred_test_lstm)))\n",
    "r2_test = r2_score(y_test, y_pred_test_lstm)\n",
    "print(\"The Adjusted R2 score on the Test set is:\\t{:0.3f}\".format(adj_r2_score(r2_test, X_test.shape[0], X_test.shape[1])))"
   ]
  },
  {
   "cell_type": "code",
   "execution_count": 33,
   "metadata": {},
   "outputs": [],
   "source": [
    "model_lstm.save('LSTM_NonShift.h5')"
   ]
  },
  {
   "cell_type": "code",
   "execution_count": 34,
   "metadata": {},
   "outputs": [],
   "source": [
    "model_ann = load_model('ANN_NonShift.h5')\n",
    "model_lstm = load_model('LSTM_NonShift.h5')"
   ]
  },
  {
   "cell_type": "code",
   "execution_count": 35,
   "metadata": {},
   "outputs": [
    {
     "name": "stdout",
     "output_type": "stream",
     "text": [
      "291/291 [==============================] - 0s 637us/step\n",
      "291/291 [==============================] - 0s 922us/step\n"
     ]
    }
   ],
   "source": [
    "score_ann= model_ann.evaluate(X_test, y_test, batch_size=1)\n",
    "score_lstm= model_lstm.evaluate(X_tst_t, y_test, batch_size=1)"
   ]
  },
  {
   "cell_type": "code",
   "execution_count": 36,
   "metadata": {},
   "outputs": [
    {
     "name": "stdout",
     "output_type": "stream",
     "text": [
      "ANN: 0.001980\n",
      "LSTM: 0.003930\n"
     ]
    }
   ],
   "source": [
    "print('ANN: %f'%score_ann)\n",
    "print('LSTM: %f'%score_lstm)"
   ]
  },
  {
   "cell_type": "code",
   "execution_count": 37,
   "metadata": {},
   "outputs": [],
   "source": [
    "y_pred_test_ANN = model_ann.predict(X_test)\n",
    "y_pred_test_LSTM = model_lstm.predict(X_tst_t)"
   ]
  },
  {
   "cell_type": "code",
   "execution_count": 38,
   "metadata": {},
   "outputs": [],
   "source": [
    "col1 = pd.DataFrame(y_test, columns=['True'])\n",
    "col2 = pd.DataFrame(y_pred_test_ANN, columns=['ANN_prediction'])\n",
    "col3 = pd.DataFrame(y_pred_test_LSTM, columns=['LSTM_prediction'])\n",
    "col4 = pd.DataFrame(history.history['loss'], columns=['Loss_ANN'])\n",
    "col5 = pd.DataFrame(history_model_lstm.history['loss'], columns=['Loss_LSTM'])\n",
    "results = pd.concat([col1, col2, col3, col4, col5], axis=1)\n",
    "results.to_excel('PredictionResults_ANN-LSTM_NonShift.xlsx')"
   ]
  },
  {
   "cell_type": "code",
   "execution_count": 39,
   "metadata": {},
   "outputs": [
    {
     "data": {
      "image/png": "[encoded data removed]",
      "text/plain": [
       "<Figure size 432x288 with 1 Axes>"
      ]
     },
     "metadata": {
      "needs_background": "light"
     },
     "output_type": "display_data"
    }
   ],
   "source": [
    "plt.plot(y_test, label='True')\n",
    "plt.plot(y_pred_test_ANN, label='ANN')\n",
    "plt.title(\"ANN's_Prediction\")\n",
    "plt.xlabel('Observation')\n",
    "plt.ylabel('euro_usd_scaled')\n",
    "plt.legend()\n",
    "plt.show()"
   ]
  },
  {
   "cell_type": "code",
   "execution_count": 40,
   "metadata": {},
   "outputs": [
    {
     "data": {
      "image/png": "[encoded data removed]",
      "text/plain": [
       "<Figure size 432x288 with 1 Axes>"
      ]
     },
     "metadata": {
      "needs_background": "light"
     },
     "output_type": "display_data"
    }
   ],
   "source": [
    "plt.plot(y_test, label='True')\n",
    "plt.plot(y_pred_test_LSTM, label='LSTM')\n",
    "plt.title(\"LSTM's_Prediction\")\n",
    "plt.xlabel('Observation')\n",
    "plt.ylabel('euro_Scaled')\n",
    "plt.legend()\n",
    "plt.show()"
   ]
  },
  {
   "cell_type": "code",
   "execution_count": null,
   "metadata": {},
   "outputs": [],
   "source": []
  }
 ],
 "metadata": {
  "kernelspec": {
   "display_name": "Python 3",
   "language": "python",
   "name": "python3"
  },
  "language_info": {
   "codemirror_mode": {
    "name": "ipython",
    "version": 3
   },
   "file_extension": ".py",
   "mimetype": "text/x-python",
   "name": "python",
   "nbconvert_exporter": "python",
   "pygments_lexer": "ipython3",
   "version": "3.6.6"
  }
 },
 "nbformat": 4,
 "nbformat_minor": 2
}
